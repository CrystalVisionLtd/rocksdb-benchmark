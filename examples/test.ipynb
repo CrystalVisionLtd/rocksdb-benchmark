{
 "cells": [
  {
   "cell_type": "code",
   "execution_count": 1,
   "id": "e7ff98f3-b716-4758-ab28-41611bfbcbaa",
   "metadata": {},
   "outputs": [],
   "source": [
    "%load_ext autoreload\n",
    "%autoreload 2\n",
    "\n",
    "import sys\n",
    "import os\n",
    "ext_path = os.path.abspath(\"../cmake-build-release-wsl\")\n",
    "sys.path.append(ext_path)"
   ]
  },
  {
   "cell_type": "code",
   "execution_count": 2,
   "id": "0b87b306-6996-4dee-a759-9d1f208c3a9d",
   "metadata": {},
   "outputs": [],
   "source": [
    "import rocksbench"
   ]
  },
  {
   "cell_type": "code",
   "execution_count": 3,
   "id": "b66dc5e0-81ac-406e-b02e-7ec527670083",
   "metadata": {},
   "outputs": [],
   "source": [
    "opts = rocksbench.Options()\n",
    "bench = rocksbench.RocksBench(\"./benchdb\", opts)"
   ]
  },
  {
   "cell_type": "code",
   "execution_count": 4,
   "id": "56673b1a-901c-4f75-b558-d8233142c281",
   "metadata": {
    "scrolled": true,
    "tags": []
   },
   "outputs": [
    {
     "name": "stdout",
     "output_type": "stream",
     "text": [
      "rocksdb.block.cache.miss COUNT : 0\n",
      "rocksdb.block.cache.hit COUNT : 0\n",
      "rocksdb.block.cache.add COUNT : 0\n",
      "rocksdb.block.cache.add.failures COUNT : 0\n",
      "rocksdb.block.cache.index.miss COUNT : 0\n",
      "rocksdb.block.cache.index.hit COUNT : 0\n",
      "rocksdb.block.cache.index.add COUNT : 0\n",
      "rocksdb.block.cache.index.bytes.insert COUNT : 0\n",
      "rocksdb.block.cache.index.bytes.evict COUNT : 0\n",
      "rocksdb.block.cache.filter.miss COUNT : 0\n",
      "rocksdb.block.cache.filter.hit COUNT : 0\n",
      "rocksdb.block.cache.filter.add COUNT : 0\n",
      "rocksdb.block.cache.filter.bytes.insert COUNT : 0\n",
      "rocksdb.block.cache.filter.bytes.evict COUNT : 0\n",
      "rocksdb.block.cache.data.miss COUNT : 0\n",
      "rocksdb.block.cache.data.hit COUNT : 0\n",
      "rocksdb.block.cache.data.add COUNT : 0\n",
      "rocksdb.block.cache.data.bytes.insert COUNT : 0\n",
      "rocksdb.block.cache.bytes.read COUNT : 0\n",
      "rocksdb.block.cache.bytes.write COUNT : 0\n",
      "rocksdb.bloom.filter.useful COUNT : 0\n",
      "rocksdb.bloom.filter.full.positive COUNT : 0\n",
      "rocksdb.bloom.filter.full.true.positive COUNT : 0\n",
      "rocksdb.bloom.filter.micros COUNT : 0\n",
      "rocksdb.persistent.cache.hit COUNT : 0\n",
      "rocksdb.persistent.cache.miss COUNT : 0\n",
      "rocksdb.sim.block.cache.hit COUNT : 0\n",
      "rocksdb.sim.block.cache.miss COUNT : 0\n",
      "rocksdb.memtable.hit COUNT : 0\n",
      "rocksdb.memtable.miss COUNT : 0\n",
      "rocksdb.l0.hit COUNT : 0\n",
      "rocksdb.l1.hit COUNT : 0\n",
      "rocksdb.l2andup.hit COUNT : 0\n",
      "rocksdb.compaction.key.drop.new COUNT : 0\n",
      "rocksdb.compaction.key.drop.obsolete COUNT : 0\n",
      "rocksdb.compaction.key.drop.range_del COUNT : 0\n",
      "rocksdb.compaction.key.drop.user COUNT : 0\n",
      "rocksdb.compaction.range_del.drop.obsolete COUNT : 0\n",
      "rocksdb.compaction.optimized.del.drop.obsolete COUNT : 0\n",
      "rocksdb.compaction.cancelled COUNT : 0\n",
      "rocksdb.number.keys.written COUNT : 0\n",
      "rocksdb.number.keys.read COUNT : 0\n",
      "rocksdb.number.keys.updated COUNT : 0\n",
      "rocksdb.bytes.written COUNT : 0\n",
      "rocksdb.bytes.read COUNT : 0\n",
      "rocksdb.number.db.seek COUNT : 0\n",
      "rocksdb.number.db.next COUNT : 0\n",
      "rocksdb.number.db.prev COUNT : 0\n",
      "rocksdb.number.db.seek.found COUNT : 0\n",
      "rocksdb.number.db.next.found COUNT : 0\n",
      "rocksdb.number.db.prev.found COUNT : 0\n",
      "rocksdb.db.iter.bytes.read COUNT : 0\n",
      "rocksdb.no.file.closes COUNT : 0\n",
      "rocksdb.no.file.opens COUNT : 1\n",
      "rocksdb.no.file.errors COUNT : 0\n",
      "rocksdb.l0.slowdown.micros COUNT : 0\n",
      "rocksdb.memtable.compaction.micros COUNT : 0\n",
      "rocksdb.l0.num.files.stall.micros COUNT : 0\n",
      "rocksdb.stall.micros COUNT : 0\n",
      "rocksdb.db.mutex.wait.micros COUNT : 0\n",
      "rocksdb.rate.limit.delay.millis COUNT : 0\n",
      "rocksdb.num.iterators COUNT : 0\n",
      "rocksdb.number.multiget.get COUNT : 0\n",
      "rocksdb.number.multiget.keys.read COUNT : 0\n",
      "rocksdb.number.multiget.bytes.read COUNT : 0\n",
      "rocksdb.number.deletes.filtered COUNT : 0\n",
      "rocksdb.number.merge.failures COUNT : 0\n",
      "rocksdb.bloom.filter.prefix.checked COUNT : 0\n",
      "rocksdb.bloom.filter.prefix.useful COUNT : 0\n",
      "rocksdb.number.reseeks.iteration COUNT : 0\n",
      "rocksdb.getupdatessince.calls COUNT : 0\n",
      "rocksdb.block.cachecompressed.miss COUNT : 0\n",
      "rocksdb.block.cachecompressed.hit COUNT : 0\n",
      "rocksdb.block.cachecompressed.add COUNT : 0\n",
      "rocksdb.block.cachecompressed.add.failures COUNT : 0\n",
      "rocksdb.wal.synced COUNT : 0\n",
      "rocksdb.wal.bytes COUNT : 0\n",
      "rocksdb.write.self COUNT : 0\n",
      "rocksdb.write.other COUNT : 0\n",
      "rocksdb.write.timeout COUNT : 0\n",
      "rocksdb.write.wal COUNT : 0\n",
      "rocksdb.compact.read.bytes COUNT : 0\n",
      "rocksdb.compact.write.bytes COUNT : 0\n",
      "rocksdb.flush.write.bytes COUNT : 0\n",
      "rocksdb.compact.read.marked.bytes COUNT : 0\n",
      "rocksdb.compact.read.periodic.bytes COUNT : 0\n",
      "rocksdb.compact.read.ttl.bytes COUNT : 0\n",
      "rocksdb.compact.write.marked.bytes COUNT : 0\n",
      "rocksdb.compact.write.periodic.bytes COUNT : 0\n",
      "rocksdb.compact.write.ttl.bytes COUNT : 0\n",
      "rocksdb.number.direct.load.table.properties COUNT : 0\n",
      "rocksdb.number.superversion_acquires COUNT : 0\n",
      "rocksdb.number.superversion_releases COUNT : 0\n",
      "rocksdb.number.superversion_cleanups COUNT : 0\n",
      "rocksdb.number.block.compressed COUNT : 0\n",
      "rocksdb.number.block.decompressed COUNT : 0\n",
      "rocksdb.number.block.not_compressed COUNT : 0\n",
      "rocksdb.merge.operation.time.nanos COUNT : 0\n",
      "rocksdb.filter.operation.time.nanos COUNT : 0\n",
      "rocksdb.row.cache.hit COUNT : 0\n",
      "rocksdb.row.cache.miss COUNT : 0\n",
      "rocksdb.read.amp.estimate.useful.bytes COUNT : 0\n",
      "rocksdb.read.amp.total.read.bytes COUNT : 0\n",
      "rocksdb.number.rate_limiter.drains COUNT : 0\n",
      "rocksdb.number.iter.skip COUNT : 0\n",
      "rocksdb.blobdb.num.put COUNT : 0\n",
      "rocksdb.blobdb.num.write COUNT : 0\n",
      "rocksdb.blobdb.num.get COUNT : 0\n",
      "rocksdb.blobdb.num.multiget COUNT : 0\n",
      "rocksdb.blobdb.num.seek COUNT : 0\n",
      "rocksdb.blobdb.num.next COUNT : 0\n",
      "rocksdb.blobdb.num.prev COUNT : 0\n",
      "rocksdb.blobdb.num.keys.written COUNT : 0\n",
      "rocksdb.blobdb.num.keys.read COUNT : 0\n",
      "rocksdb.blobdb.bytes.written COUNT : 0\n",
      "rocksdb.blobdb.bytes.read COUNT : 0\n",
      "rocksdb.blobdb.write.inlined COUNT : 0\n",
      "rocksdb.blobdb.write.inlined.ttl COUNT : 0\n",
      "rocksdb.blobdb.write.blob COUNT : 0\n",
      "rocksdb.blobdb.write.blob.ttl COUNT : 0\n",
      "rocksdb.blobdb.blob.file.bytes.written COUNT : 0\n",
      "rocksdb.blobdb.blob.file.bytes.read COUNT : 0\n",
      "rocksdb.blobdb.blob.file.synced COUNT : 0\n",
      "rocksdb.blobdb.blob.index.expired.count COUNT : 0\n",
      "rocksdb.blobdb.blob.index.expired.size COUNT : 0\n",
      "rocksdb.blobdb.blob.index.evicted.count COUNT : 0\n",
      "rocksdb.blobdb.blob.index.evicted.size COUNT : 0\n",
      "rocksdb.blobdb.gc.num.files COUNT : 0\n",
      "rocksdb.blobdb.gc.num.new.files COUNT : 0\n",
      "rocksdb.blobdb.gc.failures COUNT : 0\n",
      "rocksdb.blobdb.gc.num.keys.overwritten COUNT : 0\n",
      "rocksdb.blobdb.gc.num.keys.expired COUNT : 0\n",
      "rocksdb.blobdb.gc.num.keys.relocated COUNT : 0\n",
      "rocksdb.blobdb.gc.bytes.overwritten COUNT : 0\n",
      "rocksdb.blobdb.gc.bytes.expired COUNT : 0\n",
      "rocksdb.blobdb.gc.bytes.relocated COUNT : 0\n",
      "rocksdb.blobdb.fifo.num.files.evicted COUNT : 0\n",
      "rocksdb.blobdb.fifo.num.keys.evicted COUNT : 0\n",
      "rocksdb.blobdb.fifo.bytes.evicted COUNT : 0\n",
      "rocksdb.txn.overhead.mutex.prepare COUNT : 0\n",
      "rocksdb.txn.overhead.mutex.old.commit.map COUNT : 0\n",
      "rocksdb.txn.overhead.duplicate.key COUNT : 0\n",
      "rocksdb.txn.overhead.mutex.snapshot COUNT : 0\n",
      "rocksdb.txn.get.tryagain COUNT : 0\n",
      "rocksdb.number.multiget.keys.found COUNT : 0\n",
      "rocksdb.num.iterator.created COUNT : 0\n",
      "rocksdb.num.iterator.deleted COUNT : 0\n",
      "rocksdb.block.cache.compression.dict.miss COUNT : 0\n",
      "rocksdb.block.cache.compression.dict.hit COUNT : 0\n",
      "rocksdb.block.cache.compression.dict.add COUNT : 0\n",
      "rocksdb.block.cache.compression.dict.bytes.insert COUNT : 0\n",
      "rocksdb.block.cache.compression.dict.bytes.evict COUNT : 0\n",
      "rocksdb.block.cache.add.redundant COUNT : 0\n",
      "rocksdb.block.cache.index.add.redundant COUNT : 0\n",
      "rocksdb.block.cache.filter.add.redundant COUNT : 0\n",
      "rocksdb.block.cache.data.add.redundant COUNT : 0\n",
      "rocksdb.block.cache.compression.dict.add.redundant COUNT : 0\n",
      "rocksdb.files.marked.trash COUNT : 0\n",
      "rocksdb.files.deleted.immediately COUNT : 0\n",
      "rocksdb.error.handler.bg.errro.count COUNT : 0\n",
      "rocksdb.error.handler.bg.io.errro.count COUNT : 0\n",
      "rocksdb.error.handler.bg.retryable.io.errro.count COUNT : 0\n",
      "rocksdb.error.handler.autoresume.count COUNT : 0\n",
      "rocksdb.error.handler.autoresume.retry.total.count COUNT : 0\n",
      "rocksdb.error.handler.autoresume.success.count COUNT : 0\n",
      "rocksdb.memtable.payload.bytes.at.flush COUNT : 0\n",
      "rocksdb.memtable.garbage.bytes.at.flush COUNT : 0\n",
      "rocksdb.secondary.cache.hits COUNT : 0\n",
      "rocksdb.verify_checksum.read.bytes COUNT : 0\n",
      "rocksdb.backup.read.bytes COUNT : 0\n",
      "rocksdb.backup.write.bytes COUNT : 0\n",
      "rocksdb.remote.compact.read.bytes COUNT : 0\n",
      "rocksdb.remote.compact.write.bytes COUNT : 0\n",
      "rocksdb.db.get.micros P50 : 0.000000 P95 : 0.000000 P99 : 0.000000 P100 : 0.000000 COUNT : 0 SUM : 0\n",
      "rocksdb.db.write.micros P50 : 0.000000 P95 : 0.000000 P99 : 0.000000 P100 : 0.000000 COUNT : 0 SUM : 0\n",
      "rocksdb.compaction.times.micros P50 : 0.000000 P95 : 0.000000 P99 : 0.000000 P100 : 0.000000 COUNT : 0 SUM : 0\n",
      "rocksdb.compaction.times.cpu_micros P50 : 0.000000 P95 : 0.000000 P99 : 0.000000 P100 : 0.000000 COUNT : 0 SUM : 0\n",
      "rocksdb.subcompaction.setup.times.micros P50 : 0.000000 P95 : 0.000000 P99 : 0.000000 P100 : 0.000000 COUNT : 0 SUM : 0\n",
      "rocksdb.table.sync.micros P50 : 0.000000 P95 : 0.000000 P99 : 0.000000 P100 : 0.000000 COUNT : 0 SUM : 0\n",
      "rocksdb.compaction.outfile.sync.micros P50 : 0.000000 P95 : 0.000000 P99 : 0.000000 P100 : 0.000000 COUNT : 0 SUM : 0\n",
      "rocksdb.wal.file.sync.micros P50 : 0.000000 P95 : 0.000000 P99 : 0.000000 P100 : 0.000000 COUNT : 0 SUM : 0\n",
      "rocksdb.manifest.file.sync.micros P50 : 1017.000000 P95 : 1017.000000 P99 : 1017.000000 P100 : 1017.000000 COUNT : 2 SUM : 1892\n",
      "rocksdb.table.open.io.micros P50 : 1842.000000 P95 : 1842.000000 P99 : 1842.000000 P100 : 1842.000000 COUNT : 1 SUM : 1842\n",
      "rocksdb.db.multiget.micros P50 : 0.000000 P95 : 0.000000 P99 : 0.000000 P100 : 0.000000 COUNT : 0 SUM : 0\n",
      "rocksdb.read.block.compaction.micros P50 : 0.000000 P95 : 0.000000 P99 : 0.000000 P100 : 0.000000 COUNT : 0 SUM : 0\n",
      "rocksdb.read.block.get.micros P50 : 11.000000 P95 : 11.000000 P99 : 11.000000 P100 : 11.000000 COUNT : 1 SUM : 11\n",
      "rocksdb.write.raw.block.micros P50 : 0.000000 P95 : 0.000000 P99 : 0.000000 P100 : 0.000000 COUNT : 0 SUM : 0\n",
      "rocksdb.l0.slowdown.count P50 : 0.000000 P95 : 0.000000 P99 : 0.000000 P100 : 0.000000 COUNT : 0 SUM : 0\n",
      "rocksdb.memtable.compaction.count P50 : 0.000000 P95 : 0.000000 P99 : 0.000000 P100 : 0.000000 COUNT : 0 SUM : 0\n",
      "rocksdb.num.files.stall.count P50 : 0.000000 P95 : 0.000000 P99 : 0.000000 P100 : 0.000000 COUNT : 0 SUM : 0\n",
      "rocksdb.hard.rate.limit.delay.count P50 : 0.000000 P95 : 0.000000 P99 : 0.000000 P100 : 0.000000 COUNT : 0 SUM : 0\n",
      "rocksdb.soft.rate.limit.delay.count P50 : 0.000000 P95 : 0.000000 P99 : 0.000000 P100 : 0.000000 COUNT : 0 SUM : 0\n",
      "rocksdb.numfiles.in.singlecompaction P50 : 0.000000 P95 : 0.000000 P99 : 0.000000 P100 : 0.000000 COUNT : 0 SUM : 0\n",
      "rocksdb.db.seek.micros P50 : 0.000000 P95 : 0.000000 P99 : 0.000000 P100 : 0.000000 COUNT : 0 SUM : 0\n",
      "rocksdb.db.write.stall P50 : 0.000000 P95 : 0.000000 P99 : 0.000000 P100 : 0.000000 COUNT : 0 SUM : 0\n",
      "rocksdb.sst.read.micros P50 : 37.000000 P95 : 37.000000 P99 : 37.000000 P100 : 37.000000 COUNT : 1 SUM : 37\n",
      "rocksdb.num.subcompactions.scheduled P50 : 0.000000 P95 : 0.000000 P99 : 0.000000 P100 : 0.000000 COUNT : 0 SUM : 0\n",
      "rocksdb.bytes.per.read P50 : 0.000000 P95 : 0.000000 P99 : 0.000000 P100 : 0.000000 COUNT : 0 SUM : 0\n",
      "rocksdb.bytes.per.write P50 : 0.000000 P95 : 0.000000 P99 : 0.000000 P100 : 0.000000 COUNT : 0 SUM : 0\n",
      "rocksdb.bytes.per.multiget P50 : 0.000000 P95 : 0.000000 P99 : 0.000000 P100 : 0.000000 COUNT : 0 SUM : 0\n",
      "rocksdb.bytes.compressed P50 : 0.000000 P95 : 0.000000 P99 : 0.000000 P100 : 0.000000 COUNT : 0 SUM : 0\n",
      "rocksdb.bytes.decompressed P50 : 0.000000 P95 : 0.000000 P99 : 0.000000 P100 : 0.000000 COUNT : 0 SUM : 0\n",
      "rocksdb.compression.times.nanos P50 : 0.000000 P95 : 0.000000 P99 : 0.000000 P100 : 0.000000 COUNT : 0 SUM : 0\n",
      "rocksdb.decompression.times.nanos P50 : 0.000000 P95 : 0.000000 P99 : 0.000000 P100 : 0.000000 COUNT : 0 SUM : 0\n",
      "rocksdb.read.num.merge_operands P50 : 0.000000 P95 : 0.000000 P99 : 0.000000 P100 : 0.000000 COUNT : 0 SUM : 0\n",
      "rocksdb.blobdb.key.size P50 : 0.000000 P95 : 0.000000 P99 : 0.000000 P100 : 0.000000 COUNT : 0 SUM : 0\n",
      "rocksdb.blobdb.value.size P50 : 0.000000 P95 : 0.000000 P99 : 0.000000 P100 : 0.000000 COUNT : 0 SUM : 0\n",
      "rocksdb.blobdb.write.micros P50 : 0.000000 P95 : 0.000000 P99 : 0.000000 P100 : 0.000000 COUNT : 0 SUM : 0\n",
      "rocksdb.blobdb.get.micros P50 : 0.000000 P95 : 0.000000 P99 : 0.000000 P100 : 0.000000 COUNT : 0 SUM : 0\n",
      "rocksdb.blobdb.multiget.micros P50 : 0.000000 P95 : 0.000000 P99 : 0.000000 P100 : 0.000000 COUNT : 0 SUM : 0\n",
      "rocksdb.blobdb.seek.micros P50 : 0.000000 P95 : 0.000000 P99 : 0.000000 P100 : 0.000000 COUNT : 0 SUM : 0\n",
      "rocksdb.blobdb.next.micros P50 : 0.000000 P95 : 0.000000 P99 : 0.000000 P100 : 0.000000 COUNT : 0 SUM : 0\n",
      "rocksdb.blobdb.prev.micros P50 : 0.000000 P95 : 0.000000 P99 : 0.000000 P100 : 0.000000 COUNT : 0 SUM : 0\n",
      "rocksdb.blobdb.blob.file.write.micros P50 : 0.000000 P95 : 0.000000 P99 : 0.000000 P100 : 0.000000 COUNT : 0 SUM : 0\n",
      "rocksdb.blobdb.blob.file.read.micros P50 : 0.000000 P95 : 0.000000 P99 : 0.000000 P100 : 0.000000 COUNT : 0 SUM : 0\n",
      "rocksdb.blobdb.blob.file.sync.micros P50 : 0.000000 P95 : 0.000000 P99 : 0.000000 P100 : 0.000000 COUNT : 0 SUM : 0\n",
      "rocksdb.blobdb.gc.micros P50 : 0.000000 P95 : 0.000000 P99 : 0.000000 P100 : 0.000000 COUNT : 0 SUM : 0\n",
      "rocksdb.blobdb.compression.micros P50 : 0.000000 P95 : 0.000000 P99 : 0.000000 P100 : 0.000000 COUNT : 0 SUM : 0\n",
      "rocksdb.blobdb.decompression.micros P50 : 0.000000 P95 : 0.000000 P99 : 0.000000 P100 : 0.000000 COUNT : 0 SUM : 0\n",
      "rocksdb.db.flush.micros P50 : 0.000000 P95 : 0.000000 P99 : 0.000000 P100 : 0.000000 COUNT : 0 SUM : 0\n",
      "rocksdb.sst.batch.size P50 : 0.000000 P95 : 0.000000 P99 : 0.000000 P100 : 0.000000 COUNT : 0 SUM : 0\n",
      "rocksdb.num.index.and.filter.blocks.read.per.level P50 : 0.000000 P95 : 0.000000 P99 : 0.000000 P100 : 0.000000 COUNT : 0 SUM : 0\n",
      "rocksdb.num.data.blocks.read.per.level P50 : 0.000000 P95 : 0.000000 P99 : 0.000000 P100 : 0.000000 COUNT : 0 SUM : 0\n",
      "rocksdb.num.sst.read.per.level P50 : 0.000000 P95 : 0.000000 P99 : 0.000000 P100 : 0.000000 COUNT : 0 SUM : 0\n",
      "rocksdb.error.handler.autoresume.retry.count P50 : 0.000000 P95 : 0.000000 P99 : 0.000000 P100 : 0.000000 COUNT : 0 SUM : 0\n",
      "\n"
     ]
    }
   ],
   "source": [
    "print(bench.Statistics())"
   ]
  },
  {
   "cell_type": "code",
   "execution_count": 5,
   "id": "826945fc-99e5-42a7-a61b-59e52b4aa8e3",
   "metadata": {},
   "outputs": [
    {
     "data": {
      "text/plain": [
       "{'rocksdb.num-blob-files': '1',\n",
       " 'rocksdb.live-blob-file-size': '8193662',\n",
       " 'rocksdb.blob-stats': 'Number of blob files: 1\\nTotal size of blob files: 8193662\\nTotal size of garbage in blob files: 0\\n',\n",
       " 'rocksdb.total-blob-file-size': '8193662',\n",
       " 'rocksdb.estimate-live-data-size': '8195728'}"
      ]
     },
     "execution_count": 5,
     "metadata": {},
     "output_type": "execute_result"
    }
   ],
   "source": [
    "bench.GetBlobProperties()"
   ]
  },
  {
   "cell_type": "code",
   "execution_count": 6,
   "id": "e4e43ca2-6e42-4a96-b435-35326ba68c8b",
   "metadata": {},
   "outputs": [
    {
     "name": "stdout",
     "output_type": "stream",
     "text": [
      "thread_pool_id = 0, bytes_read = 13455, bytes_written = 6816, open_nanos = 0, allocate_nanos = 0, write_nanos = 0, read_nanos = 0, range_sync_nanos = 0, fsync_nanos = 0, prepare_write_nanos = 0, logger_nanos = 0, cpu_write_nanos = 0, cpu_read_nanos = 0, file_io_stats_by_temperature.hot_file_bytes_read = 0, file_io_stats_by_temperature.warm_file_bytes_read = 0, file_io_stats_by_temperature.cold_file_bytes_read = 0, file_io_stats_by_temperature.hot_file_read_count = 0, file_io_stats_by_temperature.warm_file_read_count = 0, file_io_stats_by_temperature.cold_file_read_count = 0\n"
     ]
    }
   ],
   "source": [
    "print(rocksbench.RocksBench.GetIOStatsContext())"
   ]
  },
  {
   "cell_type": "code",
   "execution_count": 7,
   "id": "293e9494-697b-462b-b0ce-d55bd86673c4",
   "metadata": {},
   "outputs": [
    {
     "name": "stdout",
     "output_type": "stream",
     "text": [
      "user_key_comparison_count = 0, block_cache_hit_count = 0, block_read_count = 0, block_read_byte = 0, block_read_time = 0, block_cache_index_hit_count = 0, index_block_read_count = 0, block_cache_filter_hit_count = 0, filter_block_read_count = 0, compression_dict_block_read_count = 0, secondary_cache_hit_count = 0, block_checksum_time = 0, block_decompress_time = 0, get_read_bytes = 0, multiget_read_bytes = 0, iter_read_bytes = 0, internal_key_skipped_count = 0, internal_delete_skipped_count = 0, internal_recent_skipped_count = 0, internal_merge_count = 0, write_wal_time = 0, get_snapshot_time = 0, get_from_memtable_time = 0, get_from_memtable_count = 0, get_post_process_time = 0, get_from_output_files_time = 0, seek_on_memtable_time = 0, seek_on_memtable_count = 0, next_on_memtable_count = 0, prev_on_memtable_count = 0, seek_child_seek_time = 0, seek_child_seek_count = 0, seek_min_heap_time = 0, seek_internal_seek_time = 0, find_next_user_entry_time = 0, write_pre_and_post_process_time = 0, write_memtable_time = 0, write_thread_wait_nanos = 0, write_scheduling_flushes_compactions_time = 0, db_mutex_lock_nanos = 0, db_condition_wait_nanos = 0, merge_operator_time_nanos = 0, write_delay_time = 0, read_index_block_nanos = 0, read_filter_block_nanos = 0, new_table_block_iter_nanos = 0, new_table_iterator_nanos = 0, block_seek_nanos = 0, find_table_nanos = 0, bloom_memtable_hit_count = 0, bloom_memtable_miss_count = 0, bloom_sst_hit_count = 0, bloom_sst_miss_count = 0, key_lock_wait_time = 0, key_lock_wait_count = 0, env_new_sequential_file_nanos = 0, env_new_random_access_file_nanos = 0, env_new_writable_file_nanos = 0, env_reuse_writable_file_nanos = 0, env_new_random_rw_file_nanos = 0, env_new_directory_nanos = 0, env_file_exists_nanos = 0, env_get_children_nanos = 0, env_get_children_file_attributes_nanos = 0, env_delete_file_nanos = 0, env_create_dir_nanos = 0, env_create_dir_if_missing_nanos = 0, env_delete_dir_nanos = 0, env_get_file_size_nanos = 0, env_get_file_modification_time_nanos = 0, env_rename_file_nanos = 0, env_link_file_nanos = 0, env_lock_file_nanos = 0, env_unlock_file_nanos = 0, env_new_logger_nanos = 0, get_cpu_nanos = 0, iter_next_cpu_nanos = 0, iter_prev_cpu_nanos = 0, iter_seek_cpu_nanos = 0\n"
     ]
    }
   ],
   "source": [
    "print(rocksbench.RocksBench.GetPerfContext())"
   ]
  },
  {
   "cell_type": "code",
   "execution_count": 8,
   "id": "89d44a8f-1d76-49b2-96ae-f9f5bf04c256",
   "metadata": {},
   "outputs": [
    {
     "name": "stdout",
     "output_type": "stream",
     "text": [
      "0.295491\n"
     ]
    }
   ],
   "source": [
    "delta = bench.BenchWrite(1000, 200 << 10)\n",
    "print(delta.total_seconds())"
   ]
  },
  {
   "cell_type": "code",
   "execution_count": 9,
   "id": "cfd1e2ba-c343-48e7-a968-33ac4d69bfad",
   "metadata": {},
   "outputs": [
    {
     "name": "stdout",
     "output_type": "stream",
     "text": [
      "0.60247\n"
     ]
    }
   ],
   "source": [
    "delta = bench.BenchFlush()\n",
    "print(delta.total_seconds())"
   ]
  },
  {
   "cell_type": "code",
   "execution_count": 10,
   "id": "b0a7a46b-3dd8-47e9-87cd-698dcd37886f",
   "metadata": {},
   "outputs": [
    {
     "name": "stdout",
     "output_type": "stream",
     "text": [
      "0.107768\n"
     ]
    }
   ],
   "source": [
    "delta = bench.BenchIterator()\n",
    "print(delta.total_seconds())"
   ]
  },
  {
   "cell_type": "code",
   "execution_count": 11,
   "id": "041ca440-246a-4d77-940e-c8660b7fcb82",
   "metadata": {},
   "outputs": [
    {
     "data": {
      "text/plain": [
       "{'rocksdb.num-blob-files': '2',\n",
       " 'rocksdb.live-blob-file-size': '213033724',\n",
       " 'rocksdb.blob-stats': 'Number of blob files: 2\\nTotal size of blob files: 213033724\\nTotal size of garbage in blob files: 0\\n',\n",
       " 'rocksdb.total-blob-file-size': '213033724',\n",
       " 'rocksdb.estimate-live-data-size': '213035728'}"
      ]
     },
     "execution_count": 11,
     "metadata": {},
     "output_type": "execute_result"
    }
   ],
   "source": [
    "bench.GetBlobProperties()"
   ]
  },
  {
   "cell_type": "code",
   "execution_count": 12,
   "id": "1b91e3e0-63be-478a-969b-8993cb0f2fff",
   "metadata": {},
   "outputs": [
    {
     "name": "stdout",
     "output_type": "stream",
     "text": [
      "0.001635\n"
     ]
    }
   ],
   "source": [
    "delta = bench.BenchReduceByFactor(60, 0, 1000)\n",
    "print(delta.total_seconds())"
   ]
  },
  {
   "cell_type": "code",
   "execution_count": 13,
   "id": "c54e8abd-9a62-4df8-9246-4b47bbe02b07",
   "metadata": {},
   "outputs": [
    {
     "name": "stdout",
     "output_type": "stream",
     "text": [
      "0.054354\n"
     ]
    }
   ],
   "source": [
    "delta = bench.BenchCompact()\n",
    "print(delta.total_seconds())"
   ]
  },
  {
   "cell_type": "code",
   "execution_count": 14,
   "id": "166ad9c9-f4e6-4326-822d-709b57e5b781",
   "metadata": {},
   "outputs": [
    {
     "data": {
      "text/plain": [
       "{'rocksdb.num-blob-files': '1',\n",
       " 'rocksdb.live-blob-file-size': '8193662',\n",
       " 'rocksdb.blob-stats': 'Number of blob files: 1\\nTotal size of blob files: 8193662\\nTotal size of garbage in blob files: 0\\n',\n",
       " 'rocksdb.total-blob-file-size': '8193662',\n",
       " 'rocksdb.estimate-live-data-size': '8195728'}"
      ]
     },
     "execution_count": 14,
     "metadata": {},
     "output_type": "execute_result"
    }
   ],
   "source": [
    "bench.GetBlobProperties()"
   ]
  },
  {
   "cell_type": "code",
   "execution_count": 15,
   "id": "8aef6488-8fb2-43ab-8cfd-1f91af149297",
   "metadata": {},
   "outputs": [
    {
     "name": "stdout",
     "output_type": "stream",
     "text": [
      "9.9e-05\n"
     ]
    }
   ],
   "source": [
    "delta = bench.BenchFlush()\n",
    "print(delta.total_seconds())"
   ]
  },
  {
   "cell_type": "code",
   "execution_count": 16,
   "id": "86a8515c-9143-4fb3-ae03-ac33e1630a1d",
   "metadata": {},
   "outputs": [
    {
     "data": {
      "text/plain": [
       "{'rocksdb.num-blob-files': '1',\n",
       " 'rocksdb.live-blob-file-size': '8193662',\n",
       " 'rocksdb.blob-stats': 'Number of blob files: 1\\nTotal size of blob files: 8193662\\nTotal size of garbage in blob files: 0\\n',\n",
       " 'rocksdb.total-blob-file-size': '8193662',\n",
       " 'rocksdb.estimate-live-data-size': '8195728'}"
      ]
     },
     "execution_count": 16,
     "metadata": {},
     "output_type": "execute_result"
    }
   ],
   "source": [
    "bench.GetBlobProperties()"
   ]
  },
  {
   "cell_type": "code",
   "execution_count": 17,
   "id": "fc63a3ac-78b3-49c5-ada8-063d8b6714ec",
   "metadata": {},
   "outputs": [],
   "source": [
    "del bench"
   ]
  },
  {
   "cell_type": "code",
   "execution_count": null,
   "id": "91c643cd-da61-4351-837c-afe55b737ee0",
   "metadata": {},
   "outputs": [],
   "source": []
  }
 ],
 "metadata": {
  "kernelspec": {
   "display_name": "Python 3 (ipykernel)",
   "language": "python",
   "name": "python3"
  },
  "language_info": {
   "codemirror_mode": {
    "name": "ipython",
    "version": 3
   },
   "file_extension": ".py",
   "mimetype": "text/x-python",
   "name": "python",
   "nbconvert_exporter": "python",
   "pygments_lexer": "ipython3",
   "version": "3.9.5"
  }
 },
 "nbformat": 4,
 "nbformat_minor": 5
}
